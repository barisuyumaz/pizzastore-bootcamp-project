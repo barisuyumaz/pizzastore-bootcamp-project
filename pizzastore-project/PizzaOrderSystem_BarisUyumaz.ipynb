{
  "nbformat": 4,
  "nbformat_minor": 0,
  "metadata": {
    "colab": {
      "provenance": []
    },
    "kernelspec": {
      "name": "python3",
      "display_name": "Python 3"
    },
    "language_info": {
      "name": "python"
    }
  },
  "cells": [
    {
      "cell_type": "code",
      "source": [
        "from csv import writer\n",
        "import datetime \n",
        "import random"
      ],
      "metadata": {
        "id": "apfgBElG8jOR"
      },
      "execution_count": 115,
      "outputs": []
    },
    {
      "cell_type": "code",
      "source": [
        "menu_path = '/content/drive/MyDrive/Colab Notebooks/Menu.txt'\n",
        "database_path = '/content/drive/MyDrive/Colab Notebooks/Orders_Database.csv'"
      ],
      "metadata": {
        "id": "NAVKhlEy_zX5"
      },
      "execution_count": 105,
      "outputs": []
    },
    {
      "cell_type": "markdown",
      "source": [
        "Projede kaynak olarak sunulan Menu.txt dosyasını dinamik bir yapı oluşturmak için csv kütüphanesi ile okuyoruz."
      ],
      "metadata": {
        "id": "cwWlicvb7CNh"
      }
    },
    {
      "cell_type": "code",
      "source": [
        "def get_menu_text():\n",
        "  with open(menu_path) as csv_file:\n",
        "    csv_reader = csv.reader(csv_file, delimiter=\"\\n\")\n",
        "    description = \"\"\n",
        "    for i in csv_reader:\n",
        "      description += i[0]+\"\\n\"\n",
        "    csv_file.close()\n",
        "    return description\n",
        "description = get_menu_text()"
      ],
      "metadata": {
        "id": "92FiUFEdgy__"
      },
      "execution_count": 116,
      "outputs": []
    },
    {
      "cell_type": "markdown",
      "source": [
        "Müşterinin verdiği siparişi veri tabanına kaydeden method."
      ],
      "metadata": {
        "id": "XEcc7O4g_o6S"
      }
    },
    {
      "cell_type": "code",
      "source": [
        "def save_order_to_database(order, total_cost, name, id_no, card_no, card_pass, order_time):\n",
        "  customer_info_list = [order, total_cost, name, id_no, card_no, card_pass, order_time]\n",
        "\n",
        "  with open(database_path, 'a') as database:\n",
        "    writer_object = writer(database)\n",
        "    writer_object.writerow(customer_info_list)\n",
        "    database.close()"
      ],
      "metadata": {
        "id": "xCQEMfn5_oFr"
      },
      "execution_count": 117,
      "outputs": []
    },
    {
      "cell_type": "markdown",
      "source": [
        "Okuduğumuz Menu.txt dosyasındaki bilgiler ile\n",
        "<ul>\n",
        "<li>ürün <b>numarası-ismi</b>,</li>\n",
        "<li>ürün <b>ismi-fiyatı</b>(rastgele fiyatlar atadım),</li>\n",
        "<li>ürün <b>isim-açıklama</b>(bunu kaynak olmadığından kendim yazdım)</li>\n",
        "</ul>\n",
        "eşleştirmelerini dictionary kullanarak tanımlıyorum. "
      ],
      "metadata": {
        "id": "DrRpkJf67znC"
      }
    },
    {
      "cell_type": "code",
      "source": [
        "numbers_n_products = {} # pairing numbers and products in a dict\n",
        "products_n_costs = {}   # defining random prices for products\n",
        "pizzas_n_descriptions = {\n",
        "    'Klasik': \"Sucuk, Salam, Kaşar Peyniri\",\n",
        "    'Margarita': \"Mozarella, Domates, Fesleğen\",\n",
        "    'TürkPizza': \"Et Döner, Domates, Soğan\",\n",
        "    'Sade Pizza': \"Sucuk, Salam, Domates\"\n",
        "}\n",
        "liste = description.split(\"\\n\") #get a list with rows of description\n",
        "for i in liste:\n",
        "  if(i[:2].isdigit()): #check for integer\n",
        "    numbers_n_products[i[:2]] = i[4:]\n",
        "    products_n_costs[numbers_n_products[i[:2]]] = random.randint(5,15) #define a random price for the sauce\n",
        "  else:\n",
        "    if(i[:1].isdigit()):\n",
        "      numbers_n_products[i[:1]] = i[3:]\n",
        "      products_n_costs[numbers_n_products[i[:1]]] = random.randint(50,100) #define a random price for the pizza\n",
        "print(numbers_n_products)\n",
        "print(products_n_costs)"
      ],
      "metadata": {
        "colab": {
          "base_uri": "https://localhost:8080/"
        },
        "id": "Lz0XBE4rf_1P",
        "outputId": "c20b2207-07be-4fc5-b69c-0d45d75d3e5e"
      },
      "execution_count": 118,
      "outputs": [
        {
          "output_type": "stream",
          "name": "stdout",
          "text": [
            "{'1': 'Klasik', '2': 'Margarita', '3': 'TürkPizza', '4': 'Sade Pizza', '11': 'Zeytin', '12': 'Mantarlar', '13': 'Keçi Peyniri', '14': 'Et', '15': 'Soğan', '16': 'Mısır'}\n",
            "{'Klasik': 91, 'Margarita': 67, 'TürkPizza': 96, 'Sade Pizza': 61, 'Zeytin': 5, 'Mantarlar': 9, 'Keçi Peyniri': 10, 'Et': 14, 'Soğan': 6, 'Mısır': 15}\n"
          ]
        }
      ]
    },
    {
      "cell_type": "markdown",
      "source": [
        "\n",
        "\n",
        "*   Pizza seçimi için bir class, fiyat ve açıklama bilgileri için methodlar tanımlıyoruz.\n",
        "*  Pizza ve Sosların seçimi için Pizza classından referans alacak Decorator classını tanımlıyoruz.\n",
        "*  Bir pizza ve isteğe bağlı olarak 1 ila 6 tane arasında sos seçebiliyoruz.\n",
        "*  Decorator classı, Pizza classından aldığı pizza fiyat ve açıklama bilgisiyle Sosların fiyat ve açıklama bilgisini birleştirip **Toplam Fiyat Bilgisini** ve **Genel Sipariş Açıklamasını** veriyor.\n",
        "\n",
        "\n",
        "\n"
      ],
      "metadata": {
        "id": "VuFzZ7hm9Yaa"
      }
    },
    {
      "cell_type": "code",
      "source": [
        "class Pizza:\n",
        "  def __init__(self, name):\n",
        "    self.name = name\n",
        "\n",
        "  def get_cost(self):\n",
        "    return products_n_costs[self.name]\n",
        "\n",
        "  def get_description(self):\n",
        "    return \"{} : {}\".format(self.name, pizzas_n_descriptions[self.name])\n",
        "\n",
        "class Decorator(Pizza):\n",
        "  def __init__(self, name, sos1, sos2=None, sos3=None, sos4=None, sos5=None, sos6=None):\n",
        "    super().__init__(name)\n",
        "    self.sos1 = sos1\n",
        "    self.sos2 = sos2\n",
        "    self.sos3 = sos3\n",
        "    self.sos4 = sos4\n",
        "    self.sos5 = sos5\n",
        "    self.sos6 = sos6\n",
        "  def get_total_cost(self):\n",
        "    sauces_costs = [products_n_costs[j] for j in self.get_sauces_list()]\n",
        "\n",
        "    return Pizza(self.name).get_cost() + sum(sauces_costs)\n",
        "\n",
        "  def get_total_description(self):\n",
        "    sauces_names = \", \".join(self.get_sauces_list())\n",
        "    return \"{} | {}\".format(Pizza.get_description(self), sauces_names)\n",
        "\n",
        "  def get_sauces_list(self):\n",
        "    lst = [self.sos1, self.sos2, self.sos3, self.sos4, self.sos5, self.sos6]\n",
        "    sauces_list = [x for x in lst if x!=None] # gets rid of from None values\n",
        "    selected_sauces_names = [numbers_n_products[i] for i in sauces_list]\n",
        "    return selected_sauces_names"
      ],
      "metadata": {
        "id": "Z3XXcs7uEB04"
      },
      "execution_count": 119,
      "outputs": []
    },
    {
      "cell_type": "markdown",
      "source": [
        "Sipariş kullanıcıdan alınan verinin sadece menüdeki numara aralığında olmasını sağlayan method. Bu sayede geçersiz inputun önüne geçiyoruz."
      ],
      "metadata": {
        "id": "AqRdqEbnAPrK"
      }
    },
    {
      "cell_type": "code",
      "source": [
        "def selected_product(name, range_start, range_end):\n",
        "  numbers_range = [str(i) for i in range(range_start,range_end)]\n",
        "\n",
        "  sos_list = []\n",
        "\n",
        "  chosen_product = \"something\"\n",
        "  while(chosen_product not in numbers_range):\n",
        "    chosen_product = input(\"Seçmek istediğiniz \"+name+\" numarasını giriniz \"+str(numbers_range)[1:-1]+\".\\n\")\n",
        "    if(chosen_product not in numbers_range):\n",
        "      print(\"Geçerli bir değer girin!\")\n",
        "  return chosen_product  "
      ],
      "metadata": {
        "id": "k9do_o8wAPCi"
      },
      "execution_count": 120,
      "outputs": []
    },
    {
      "cell_type": "markdown",
      "source": [
        "Ana method"
      ],
      "metadata": {
        "id": "Gmy4UfspBIw7"
      }
    },
    {
      "cell_type": "code",
      "source": [
        "def main():\n",
        "  #Beginning, description\n",
        "  print(\"Pizzacı Dükkanına Hoşgeldiniz!\\n\"+get_menu_text())\n",
        "\n",
        "  #Store chosen infos\n",
        "  chosen_pizza_and_sos = [[],[]]\n",
        "  \n",
        "  #Get chosen pizza's data\n",
        "  chosen_pizza_and_sos[0] = selected_product(\"pizza\",1,5)\n",
        "\n",
        "  #Get chosen sauce's or sauces' data\n",
        "  chosen_pizza_and_sos[1].append(selected_product(\"sos\",11,17))\n",
        "  question = \"something\"\n",
        "  while(question != \"n\"):\n",
        "    question = input(\"Başka sos seçmek ister misin?(y/n): \")\n",
        "    if(question == \"y\"): \n",
        "      chosen = selected_product(\"sos\",11,17)\n",
        "      if(chosen in chosen_pizza_and_sos[1]):\n",
        "        print(\"Aynı sosu seçemezsiniz!\")\n",
        "      else:\n",
        "        chosen_pizza_and_sos[1].append(chosen)\n",
        "    elif(question == \"n\"):\n",
        "      pass\n",
        "    else:\n",
        "      print(\"Geçerli bir değer girin!\")\n",
        "  #---------------------------------\n",
        "\n",
        "  #print(chosen_pizza_and_sos)\n",
        "\n",
        "  #Ordering pizza with sauces\n",
        "  siparis_Pizza_Sos = Decorator(numbers_n_products[chosen_pizza_and_sos[0]], *chosen_pizza_and_sos[1])\n",
        "\n",
        "  print(siparis_Pizza_Sos.get_total_description())\n",
        "  print(\"Toplam ücret :\",siparis_Pizza_Sos.get_total_cost(),\"TL\")\n",
        "\n",
        "\n",
        "  customer_name = input(\"İsminiz: \")\n",
        "  customer_id_no = input(\"TC Kimlik Numaranız: \")\n",
        "  customer_card_no = input(\"Kart Numaranız: \")\n",
        "  customer_card_pass = input(\"Kart Şifreniz: \")\n",
        "  order_time = datetime.datetime.now().strftime(\"%m/%d/%Y, %H:%M:%S\")\n",
        "  print(\"Siparişiniz alınmıştır. 30 dakika içinde teslim alabilirsiniz...\")\n",
        "  save_order_to_database(siparis_Pizza_Sos.get_total_description(), siparis_Pizza_Sos.get_total_cost(), customer_name, customer_id_no, customer_card_no, customer_card_pass, order_time)\n",
        "\n"
      ],
      "metadata": {
        "id": "Iu1S0iJ6J3j2"
      },
      "execution_count": 121,
      "outputs": []
    },
    {
      "cell_type": "code",
      "source": [
        "main()"
      ],
      "metadata": {
        "colab": {
          "base_uri": "https://localhost:8080/"
        },
        "id": "ZTIyz61WP1pX",
        "outputId": "499fd404-4a86-43f7-be2d-8f735a8069e2"
      },
      "execution_count": 122,
      "outputs": [
        {
          "output_type": "stream",
          "name": "stdout",
          "text": [
            "Pizzacı Dükkanına Hoşgeldiniz!\n",
            "* Lütfen Bir Pizza Tabanı Seçiniz:\n",
            "1: Klasik\n",
            "2: Margarita\n",
            "3: TürkPizza\n",
            "4: Sade Pizza\n",
            "* ve seçeceğiniz sos:\n",
            "11: Zeytin\n",
            "12: Mantarlar\n",
            "13: Keçi Peyniri\n",
            "14: Et\n",
            "15: Soğan\n",
            "16: Mısır\n",
            "* Teşekkür ederiz!\n",
            "\n",
            "Seçmek istediğiniz pizza numarasını giriniz '1', '2', '3', '4'.\n",
            "2\n",
            "Seçmek istediğiniz sos numarasını giriniz '11', '12', '13', '14', '15', '16'.\n",
            "12\n",
            "Başka sos seçmek ister misin?(y/n): 16\n",
            "Geçerli bir değer girin!\n",
            "Başka sos seçmek ister misin?(y/n): y\n",
            "Seçmek istediğiniz sos numarasını giriniz '11', '12', '13', '14', '15', '16'.\n",
            "16\n",
            "Başka sos seçmek ister misin?(y/n): n\n",
            "Margarita : Mozarella, Domates, Fesleğen | Mantarlar, Mısır\n",
            "Toplam ücret : 91 TL\n",
            "İsminiz: Ahmet\n",
            "TC Kimlik Numaranız: 12345678\n",
            "Kart Numaranız: 3345566\n",
            "Kart Şifreniz: 1111\n",
            "Siparişiniz alınmıştır. 30 dakika içinde teslim alabilirsiniz...\n"
          ]
        }
      ]
    },
    {
      "cell_type": "code",
      "source": [],
      "metadata": {
        "id": "6sv37GhgBPfh"
      },
      "execution_count": null,
      "outputs": []
    }
  ]
}